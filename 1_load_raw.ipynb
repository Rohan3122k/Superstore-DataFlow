{
 "cells": [
  {
   "cell_type": "code",
   "execution_count": 2,
   "id": "67584fd4-935b-4357-8f60-641dc596a671",
   "metadata": {},
   "outputs": [
    {
     "name": "stdout",
     "output_type": "stream",
     "text": [
      "Defaulting to user installation because normal site-packages is not writeable\n",
      "Requirement already satisfied: pandas in c:\\programdata\\anaconda3\\lib\\site-packages (2.2.2)\n",
      "Requirement already satisfied: sqlalchemy in c:\\programdata\\anaconda3\\lib\\site-packages (2.0.34)\n",
      "Collecting psycopg2-binary\n",
      "  Downloading psycopg2_binary-2.9.10-cp312-cp312-win_amd64.whl.metadata (5.0 kB)\n",
      "Requirement already satisfied: numpy>=1.26.0 in c:\\programdata\\anaconda3\\lib\\site-packages (from pandas) (1.26.4)\n",
      "Requirement already satisfied: python-dateutil>=2.8.2 in c:\\programdata\\anaconda3\\lib\\site-packages (from pandas) (2.9.0.post0)\n",
      "Requirement already satisfied: pytz>=2020.1 in c:\\programdata\\anaconda3\\lib\\site-packages (from pandas) (2024.1)\n",
      "Requirement already satisfied: tzdata>=2022.7 in c:\\programdata\\anaconda3\\lib\\site-packages (from pandas) (2023.3)\n",
      "Requirement already satisfied: typing-extensions>=4.6.0 in c:\\programdata\\anaconda3\\lib\\site-packages (from sqlalchemy) (4.11.0)\n",
      "Requirement already satisfied: greenlet!=0.4.17 in c:\\programdata\\anaconda3\\lib\\site-packages (from sqlalchemy) (3.0.1)\n",
      "Requirement already satisfied: six>=1.5 in c:\\programdata\\anaconda3\\lib\\site-packages (from python-dateutil>=2.8.2->pandas) (1.16.0)\n",
      "Downloading psycopg2_binary-2.9.10-cp312-cp312-win_amd64.whl (1.2 MB)\n",
      "   ---------------------------------------- 0.0/1.2 MB ? eta -:--:--\n",
      "   ---------------------------------------- 0.0/1.2 MB ? eta -:--:--\n",
      "   ---------------------------------------- 0.0/1.2 MB ? eta -:--:--\n",
      "   ---------------------------------------- 0.0/1.2 MB ? eta -:--:--\n",
      "   ---------------------------------------- 0.0/1.2 MB ? eta -:--:--\n",
      "   ---------------------------------------- 0.0/1.2 MB ? eta -:--:--\n",
      "   --------- ------------------------------ 0.3/1.2 MB ? eta -:--:--\n",
      "   --------- ------------------------------ 0.3/1.2 MB ? eta -:--:--\n",
      "   --------- ------------------------------ 0.3/1.2 MB ? eta -:--:--\n",
      "   --------- ------------------------------ 0.3/1.2 MB ? eta -:--:--\n",
      "   ------------------ --------------------- 0.5/1.2 MB 316.6 kB/s eta 0:00:03\n",
      "   ------------------ --------------------- 0.5/1.2 MB 316.6 kB/s eta 0:00:03\n",
      "   ------------------ --------------------- 0.5/1.2 MB 316.6 kB/s eta 0:00:03\n",
      "   ------------------ --------------------- 0.5/1.2 MB 316.6 kB/s eta 0:00:03\n",
      "   --------------------------- ------------ 0.8/1.2 MB 305.2 kB/s eta 0:00:02\n",
      "   --------------------------- ------------ 0.8/1.2 MB 305.2 kB/s eta 0:00:02\n",
      "   --------------------------- ------------ 0.8/1.2 MB 305.2 kB/s eta 0:00:02\n",
      "   --------------------------- ------------ 0.8/1.2 MB 305.2 kB/s eta 0:00:02\n",
      "   ------------------------------------ --- 1.0/1.2 MB 318.7 kB/s eta 0:00:01\n",
      "   ------------------------------------ --- 1.0/1.2 MB 318.7 kB/s eta 0:00:01\n",
      "   ---------------------------------------- 1.2/1.2 MB 299.1 kB/s eta 0:00:00\n",
      "Installing collected packages: psycopg2-binary\n",
      "Successfully installed psycopg2-binary-2.9.10\n"
     ]
    }
   ],
   "source": [
    "! pip install pandas sqlalchemy psycopg2-binary\n",
    "\n",
    "\n"
   ]
  },
  {
   "cell_type": "code",
   "execution_count": 19,
   "id": "a0883a23-69aa-4e71-b816-2038fc8ea867",
   "metadata": {},
   "outputs": [
    {
     "name": "stdout",
     "output_type": "stream",
     "text": [
      "Reading CSV from `C:\\Users\\palak\\Desktop\\week1\\data\\superstore_clean.csv`…\n",
      "Loading 9994 rows into sales_raw…\n",
      "✅ Loaded 9994 rows into sales_raw\n"
     ]
    }
   ],
   "source": [
    "import pandas as pd\n",
    "from sqlalchemy import create_engine\n",
    "from urllib.parse import quote_plus\n",
    "\n",
    "# ── CONFIG ──────────────────────────────────────────────────────────\n",
    "db_user = 'etl_user1'\n",
    "db_pass = '3December2000@'\n",
    "db_host = '127.0.0.1'\n",
    "db_port = '5432'\n",
    "db_name = 'etl_demo'\n",
    "csv_path = r'C:\\Users\\palak\\Desktop\\week1\\data\\superstore_clean.csv'\n",
    "\n",
    "# percent-encode any special chars in the password\n",
    "db_pass_enc = quote_plus(db_pass)\n",
    "\n",
    "# ── ENGINE SETUP ───────────────────────────────────────────────────\n",
    "conn_str = (\n",
    "    f'postgresql+psycopg2://{db_user}:{db_pass_enc}'\n",
    "    f'@{db_host}:{db_port}/{db_name}'\n",
    ")\n",
    "engine = create_engine(conn_str)\n",
    "\n",
    "# ── LOAD ────────────────────────────────────────────────────────────\n",
    "print(f\"Reading CSV from `{csv_path}`…\")\n",
    "df = pd.read_csv(csv_path, parse_dates=['order_date','ship_date'])\n",
    "\n",
    "print(f\"Loading {len(df)} rows into sales_raw…\")\n",
    "df.to_sql(\n",
    "    'sales_raw',\n",
    "    con=engine,\n",
    "    if_exists='append',\n",
    "    index=False,\n",
    "    method='multi',\n",
    "    chunksize=1000\n",
    ")\n",
    "\n",
    "print(f\"✅ Loaded {len(df)} rows into sales_raw\")\n"
   ]
  },
  {
   "cell_type": "code",
   "execution_count": null,
   "id": "93ba7960-6867-4627-98b8-6ffc924d88b1",
   "metadata": {},
   "outputs": [],
   "source": []
  }
 ],
 "metadata": {
  "kernelspec": {
   "display_name": "Python 3 (ipykernel)",
   "language": "python",
   "name": "python3"
  },
  "language_info": {
   "codemirror_mode": {
    "name": "ipython",
    "version": 3
   },
   "file_extension": ".py",
   "mimetype": "text/x-python",
   "name": "python",
   "nbconvert_exporter": "python",
   "pygments_lexer": "ipython3",
   "version": "3.12.7"
  }
 },
 "nbformat": 4,
 "nbformat_minor": 5
}
